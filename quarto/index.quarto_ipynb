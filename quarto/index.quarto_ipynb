{
  "cells": [
    {
      "cell_type": "markdown",
      "metadata": {},
      "source": [
        "---\n",
        "title: 'Access to Health Facilities from IDPs'\n",
        "author: 'Brian Mc Donald'\n",
        "subtitle: \"Using computational approaches for service access to compare travel times to health facilities\"\n",
        "title-block-banner: '#0035a0'\n",
        "output-file: index\n",
        "output-dir: ../docs\n",
        "lightbox: true\n",
        "embed-resources: true\n",
        "format:\n",
        "    html:\n",
        "        toc: true\n",
        "---"
      ],
      "id": "fbe9b5ba"
    },
    {
      "cell_type": "code",
      "metadata": {
        "tags": [
          "parameters"
        ]
      },
      "source": [
        "parameterA = \"IRE\"\n",
        "parameterB = 0001"
      ],
      "id": "28aa9861",
      "execution_count": null,
      "outputs": []
    },
    {
      "cell_type": "markdown",
      "metadata": {},
      "source": [
        "## Structure\n",
        "### Introduction\n",
        "### Objectives (Including problem statement)\n",
        "- Compare service access measurement via KI and computational approaches\n",
        "- Utilize comnputational approaches to quality check key informant data.\n",
        "- Identify priority locations to investigate barriers other than travel time \n",
        "- Reproducible apprach that can be systematised\n",
        "\n",
        "### Methodology overview\n",
        "- Focus on 1 country Mozambique\n",
        "- Get IDP location data, health facility data\n",
        "### Analysis\n",
        "### Findings and recommendations summary\n",
        "Ask travel time in minutes, with inclusion of mode.\n",
        "Check for patterns by KI which may indicate QC issues.\n",
        "\n",
        "### Limitations and scope for future work\n"
      ],
      "id": "d59ddb76"
    }
  ],
  "metadata": {
    "kernelspec": {
      "name": "python3",
      "language": "python",
      "display_name": "Python 3 (ipykernel)",
      "path": "/Users/brian/Code/access/.pixi/envs/default/share/jupyter/kernels/python3"
    }
  },
  "nbformat": 4,
  "nbformat_minor": 5
}